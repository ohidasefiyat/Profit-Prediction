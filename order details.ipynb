{
 "cells": [
  {
   "cell_type": "markdown",
   "metadata": {
    "nteract": {
     "transient": {
      "deleting": false
     }
    }
   },
   "source": [
    "MACHINE LEARNING MODEL - IMPLEMENTING A LINEAR REGRESSION MODEL IN PYTHON"
   ]
  },
  {
   "cell_type": "code",
   "execution_count": 1,
   "metadata": {
    "gather": {
     "logged": 1619599438988
    },
    "jupyter": {
     "outputs_hidden": false,
     "source_hidden": false
    },
    "nteract": {
     "transient": {
      "deleting": false
     }
    }
   },
   "outputs": [],
   "source": [
    "import matplotlib.pyplot as plt\n",
    "import numpy as np\n",
    "import pandas as pd\n",
    "from sklearn.linear_model import LinearRegression\n",
    "from sklearn.model_selection import train_test_split\n",
    "import seaborn as sns; sns.set()"
   ]
  },
  {
   "cell_type": "code",
   "execution_count": 2,
   "metadata": {
    "gather": {
     "logged": 1619599440370
    },
    "jupyter": {
     "outputs_hidden": false,
     "source_hidden": false
    },
    "nteract": {
     "transient": {
      "deleting": false
     }
    }
   },
   "outputs": [
    {
     "name": "stdout",
     "output_type": "stream",
     "text": [
      "(1500, 6)\n"
     ]
    },
    {
     "data": {
      "text/html": [
       "<div>\n",
       "<style scoped>\n",
       "    .dataframe tbody tr th:only-of-type {\n",
       "        vertical-align: middle;\n",
       "    }\n",
       "\n",
       "    .dataframe tbody tr th {\n",
       "        vertical-align: top;\n",
       "    }\n",
       "\n",
       "    .dataframe thead th {\n",
       "        text-align: right;\n",
       "    }\n",
       "</style>\n",
       "<table border=\"1\" class=\"dataframe\">\n",
       "  <thead>\n",
       "    <tr style=\"text-align: right;\">\n",
       "      <th></th>\n",
       "      <th>Order ID</th>\n",
       "      <th>Amount</th>\n",
       "      <th>Profit</th>\n",
       "      <th>Quantity</th>\n",
       "      <th>Category</th>\n",
       "      <th>Sub-Category</th>\n",
       "    </tr>\n",
       "  </thead>\n",
       "  <tbody>\n",
       "    <tr>\n",
       "      <th>0</th>\n",
       "      <td>B-25601</td>\n",
       "      <td>1275.0</td>\n",
       "      <td>-1148.0</td>\n",
       "      <td>7</td>\n",
       "      <td>Furniture</td>\n",
       "      <td>Bookcases</td>\n",
       "    </tr>\n",
       "    <tr>\n",
       "      <th>1</th>\n",
       "      <td>B-25601</td>\n",
       "      <td>66.0</td>\n",
       "      <td>-12.0</td>\n",
       "      <td>5</td>\n",
       "      <td>Clothing</td>\n",
       "      <td>Stole</td>\n",
       "    </tr>\n",
       "    <tr>\n",
       "      <th>2</th>\n",
       "      <td>B-25601</td>\n",
       "      <td>8.0</td>\n",
       "      <td>-2.0</td>\n",
       "      <td>3</td>\n",
       "      <td>Clothing</td>\n",
       "      <td>Hankerchief</td>\n",
       "    </tr>\n",
       "    <tr>\n",
       "      <th>3</th>\n",
       "      <td>B-25601</td>\n",
       "      <td>80.0</td>\n",
       "      <td>-56.0</td>\n",
       "      <td>4</td>\n",
       "      <td>Electronics</td>\n",
       "      <td>Electronic Games</td>\n",
       "    </tr>\n",
       "    <tr>\n",
       "      <th>4</th>\n",
       "      <td>B-25602</td>\n",
       "      <td>168.0</td>\n",
       "      <td>-111.0</td>\n",
       "      <td>2</td>\n",
       "      <td>Electronics</td>\n",
       "      <td>Phones</td>\n",
       "    </tr>\n",
       "    <tr>\n",
       "      <th>...</th>\n",
       "      <td>...</td>\n",
       "      <td>...</td>\n",
       "      <td>...</td>\n",
       "      <td>...</td>\n",
       "      <td>...</td>\n",
       "      <td>...</td>\n",
       "    </tr>\n",
       "    <tr>\n",
       "      <th>1495</th>\n",
       "      <td>B-26099</td>\n",
       "      <td>835.0</td>\n",
       "      <td>267.0</td>\n",
       "      <td>5</td>\n",
       "      <td>Electronics</td>\n",
       "      <td>Phones</td>\n",
       "    </tr>\n",
       "    <tr>\n",
       "      <th>1496</th>\n",
       "      <td>B-26099</td>\n",
       "      <td>2366.0</td>\n",
       "      <td>552.0</td>\n",
       "      <td>5</td>\n",
       "      <td>Clothing</td>\n",
       "      <td>Trousers</td>\n",
       "    </tr>\n",
       "    <tr>\n",
       "      <th>1497</th>\n",
       "      <td>B-26100</td>\n",
       "      <td>828.0</td>\n",
       "      <td>230.0</td>\n",
       "      <td>2</td>\n",
       "      <td>Furniture</td>\n",
       "      <td>Chairs</td>\n",
       "    </tr>\n",
       "    <tr>\n",
       "      <th>1498</th>\n",
       "      <td>B-26100</td>\n",
       "      <td>34.0</td>\n",
       "      <td>10.0</td>\n",
       "      <td>2</td>\n",
       "      <td>Clothing</td>\n",
       "      <td>T-shirt</td>\n",
       "    </tr>\n",
       "    <tr>\n",
       "      <th>1499</th>\n",
       "      <td>B-26100</td>\n",
       "      <td>72.0</td>\n",
       "      <td>16.0</td>\n",
       "      <td>2</td>\n",
       "      <td>Clothing</td>\n",
       "      <td>Shirt</td>\n",
       "    </tr>\n",
       "  </tbody>\n",
       "</table>\n",
       "<p>1500 rows × 6 columns</p>\n",
       "</div>"
      ],
      "text/plain": [
       "     Order ID  Amount  Profit  Quantity     Category      Sub-Category\n",
       "0     B-25601  1275.0 -1148.0         7    Furniture         Bookcases\n",
       "1     B-25601    66.0   -12.0         5     Clothing             Stole\n",
       "2     B-25601     8.0    -2.0         3     Clothing       Hankerchief\n",
       "3     B-25601    80.0   -56.0         4  Electronics  Electronic Games\n",
       "4     B-25602   168.0  -111.0         2  Electronics            Phones\n",
       "...       ...     ...     ...       ...          ...               ...\n",
       "1495  B-26099   835.0   267.0         5  Electronics            Phones\n",
       "1496  B-26099  2366.0   552.0         5     Clothing          Trousers\n",
       "1497  B-26100   828.0   230.0         2    Furniture            Chairs\n",
       "1498  B-26100    34.0    10.0         2     Clothing           T-shirt\n",
       "1499  B-26100    72.0    16.0         2     Clothing             Shirt\n",
       "\n",
       "[1500 rows x 6 columns]"
      ]
     },
     "execution_count": 2,
     "metadata": {},
     "output_type": "execute_result"
    }
   ],
   "source": [
    "# azureml-core of version 1.0.72 or higher is required\n",
    "# azureml-dataprep[pandas] of version 1.1.34 or higher is required\n",
    "from azureml.core import Workspace, Dataset\n",
    "\n",
    "subscription_id = 'your subscription id'\n",
    "resource_group = 'ML-Studio'\n",
    "workspace_name = 'ML_Modelling'\n",
    "\n",
    "workspace = Workspace(subscription_id, resource_group, workspace_name)\n",
    "\n",
    "path = Dataset.get_by_name(workspace, name='Order Details')\n",
    "order_details = path.to_pandas_dataframe()\n",
    "\n",
    "#make a copy of the dataset\n",
    "order_details_profit = path.to_pandas_dataframe()\n",
    "\n",
    "print(order_details.shape)\n",
    "order_details"
   ]
  },
  {
   "cell_type": "markdown",
   "metadata": {},
   "source": [
    "                                     EXPLORE THE DATASETS"
   ]
  },
  {
   "cell_type": "code",
   "execution_count": 3,
   "metadata": {
    "gather": {
     "logged": 1619599446669
    },
    "jupyter": {
     "outputs_hidden": false,
     "source_hidden": false
    },
    "nteract": {
     "transient": {
      "deleting": false
     }
    }
   },
   "outputs": [
    {
     "name": "stdout",
     "output_type": "stream",
     "text": [
      "<class 'pandas.core.frame.DataFrame'>\n"
     ]
    },
    {
     "data": {
      "text/html": [
       "<div>\n",
       "<style scoped>\n",
       "    .dataframe tbody tr th:only-of-type {\n",
       "        vertical-align: middle;\n",
       "    }\n",
       "\n",
       "    .dataframe tbody tr th {\n",
       "        vertical-align: top;\n",
       "    }\n",
       "\n",
       "    .dataframe thead th {\n",
       "        text-align: right;\n",
       "    }\n",
       "</style>\n",
       "<table border=\"1\" class=\"dataframe\">\n",
       "  <thead>\n",
       "    <tr style=\"text-align: right;\">\n",
       "      <th></th>\n",
       "      <th>Amount</th>\n",
       "      <th>Profit</th>\n",
       "      <th>Quantity</th>\n",
       "    </tr>\n",
       "  </thead>\n",
       "  <tbody>\n",
       "    <tr>\n",
       "      <th>count</th>\n",
       "      <td>1500.000000</td>\n",
       "      <td>1500.000000</td>\n",
       "      <td>1500.000000</td>\n",
       "    </tr>\n",
       "    <tr>\n",
       "      <th>mean</th>\n",
       "      <td>287.668000</td>\n",
       "      <td>15.970000</td>\n",
       "      <td>3.743333</td>\n",
       "    </tr>\n",
       "    <tr>\n",
       "      <th>std</th>\n",
       "      <td>461.050488</td>\n",
       "      <td>169.140565</td>\n",
       "      <td>2.184942</td>\n",
       "    </tr>\n",
       "    <tr>\n",
       "      <th>min</th>\n",
       "      <td>4.000000</td>\n",
       "      <td>-1981.000000</td>\n",
       "      <td>1.000000</td>\n",
       "    </tr>\n",
       "    <tr>\n",
       "      <th>25%</th>\n",
       "      <td>45.000000</td>\n",
       "      <td>-9.250000</td>\n",
       "      <td>2.000000</td>\n",
       "    </tr>\n",
       "    <tr>\n",
       "      <th>50%</th>\n",
       "      <td>118.000000</td>\n",
       "      <td>9.000000</td>\n",
       "      <td>3.000000</td>\n",
       "    </tr>\n",
       "    <tr>\n",
       "      <th>75%</th>\n",
       "      <td>322.000000</td>\n",
       "      <td>38.000000</td>\n",
       "      <td>5.000000</td>\n",
       "    </tr>\n",
       "    <tr>\n",
       "      <th>max</th>\n",
       "      <td>5729.000000</td>\n",
       "      <td>1698.000000</td>\n",
       "      <td>14.000000</td>\n",
       "    </tr>\n",
       "  </tbody>\n",
       "</table>\n",
       "</div>"
      ],
      "text/plain": [
       "            Amount       Profit     Quantity\n",
       "count  1500.000000  1500.000000  1500.000000\n",
       "mean    287.668000    15.970000     3.743333\n",
       "std     461.050488   169.140565     2.184942\n",
       "min       4.000000 -1981.000000     1.000000\n",
       "25%      45.000000    -9.250000     2.000000\n",
       "50%     118.000000     9.000000     3.000000\n",
       "75%     322.000000    38.000000     5.000000\n",
       "max    5729.000000  1698.000000    14.000000"
      ]
     },
     "execution_count": 3,
     "metadata": {},
     "output_type": "execute_result"
    }
   ],
   "source": [
    "#PRint the data type\n",
    "print(type(order_details))\n",
    "\n",
    "#check dataset descirption\n",
    "order_details.describe()"
   ]
  },
  {
   "cell_type": "markdown",
   "metadata": {
    "nteract": {
     "transient": {
      "deleting": false
     }
    }
   },
   "source": [
    "                                        CLEAN DATASET"
   ]
  },
  {
   "cell_type": "code",
   "execution_count": 4,
   "metadata": {
    "gather": {
     "logged": 1619599453491
    },
    "jupyter": {
     "outputs_hidden": false,
     "source_hidden": false
    },
    "nteract": {
     "transient": {
      "deleting": false
     }
    }
   },
   "outputs": [
    {
     "data": {
      "text/plain": [
       "(1500, 6)"
      ]
     },
     "execution_count": 4,
     "metadata": {},
     "output_type": "execute_result"
    }
   ],
   "source": [
    "#check the shape of dataset\n",
    "order_details.shape"
   ]
  },
  {
   "cell_type": "code",
   "execution_count": 5,
   "metadata": {
    "gather": {
     "logged": 1619599456501
    },
    "jupyter": {
     "outputs_hidden": false,
     "source_hidden": false
    },
    "nteract": {
     "transient": {
      "deleting": false
     }
    }
   },
   "outputs": [
    {
     "data": {
      "text/plain": [
       "Order ID        False\n",
       "Amount          False\n",
       "Profit          False\n",
       "Quantity        False\n",
       "Category        False\n",
       "Sub-Category    False\n",
       "dtype: bool"
      ]
     },
     "execution_count": 5,
     "metadata": {},
     "output_type": "execute_result"
    }
   ],
   "source": [
    "#check for null cases\n",
    "\n",
    "order_details.isnull().any()"
   ]
  },
  {
   "cell_type": "code",
   "execution_count": 6,
   "metadata": {
    "gather": {
     "logged": 1619599462904
    },
    "jupyter": {
     "outputs_hidden": false,
     "source_hidden": false
    },
    "nteract": {
     "transient": {
      "deleting": false
     }
    }
   },
   "outputs": [
    {
     "data": {
      "text/html": [
       "<div>\n",
       "<style scoped>\n",
       "    .dataframe tbody tr th:only-of-type {\n",
       "        vertical-align: middle;\n",
       "    }\n",
       "\n",
       "    .dataframe tbody tr th {\n",
       "        vertical-align: top;\n",
       "    }\n",
       "\n",
       "    .dataframe thead th {\n",
       "        text-align: right;\n",
       "    }\n",
       "</style>\n",
       "<table border=\"1\" class=\"dataframe\">\n",
       "  <thead>\n",
       "    <tr style=\"text-align: right;\">\n",
       "      <th></th>\n",
       "      <th>Amount</th>\n",
       "      <th>Profit</th>\n",
       "      <th>Quantity</th>\n",
       "    </tr>\n",
       "  </thead>\n",
       "  <tbody>\n",
       "    <tr>\n",
       "      <th>0</th>\n",
       "      <td>1275.0</td>\n",
       "      <td>-1148.0</td>\n",
       "      <td>7</td>\n",
       "    </tr>\n",
       "    <tr>\n",
       "      <th>1</th>\n",
       "      <td>66.0</td>\n",
       "      <td>-12.0</td>\n",
       "      <td>5</td>\n",
       "    </tr>\n",
       "    <tr>\n",
       "      <th>2</th>\n",
       "      <td>8.0</td>\n",
       "      <td>-2.0</td>\n",
       "      <td>3</td>\n",
       "    </tr>\n",
       "    <tr>\n",
       "      <th>3</th>\n",
       "      <td>80.0</td>\n",
       "      <td>-56.0</td>\n",
       "      <td>4</td>\n",
       "    </tr>\n",
       "    <tr>\n",
       "      <th>4</th>\n",
       "      <td>168.0</td>\n",
       "      <td>-111.0</td>\n",
       "      <td>2</td>\n",
       "    </tr>\n",
       "    <tr>\n",
       "      <th>...</th>\n",
       "      <td>...</td>\n",
       "      <td>...</td>\n",
       "      <td>...</td>\n",
       "    </tr>\n",
       "    <tr>\n",
       "      <th>1495</th>\n",
       "      <td>835.0</td>\n",
       "      <td>267.0</td>\n",
       "      <td>5</td>\n",
       "    </tr>\n",
       "    <tr>\n",
       "      <th>1496</th>\n",
       "      <td>2366.0</td>\n",
       "      <td>552.0</td>\n",
       "      <td>5</td>\n",
       "    </tr>\n",
       "    <tr>\n",
       "      <th>1497</th>\n",
       "      <td>828.0</td>\n",
       "      <td>230.0</td>\n",
       "      <td>2</td>\n",
       "    </tr>\n",
       "    <tr>\n",
       "      <th>1498</th>\n",
       "      <td>34.0</td>\n",
       "      <td>10.0</td>\n",
       "      <td>2</td>\n",
       "    </tr>\n",
       "    <tr>\n",
       "      <th>1499</th>\n",
       "      <td>72.0</td>\n",
       "      <td>16.0</td>\n",
       "      <td>2</td>\n",
       "    </tr>\n",
       "  </tbody>\n",
       "</table>\n",
       "<p>1500 rows × 3 columns</p>\n",
       "</div>"
      ],
      "text/plain": [
       "      Amount  Profit  Quantity\n",
       "0     1275.0 -1148.0         7\n",
       "1       66.0   -12.0         5\n",
       "2        8.0    -2.0         3\n",
       "3       80.0   -56.0         4\n",
       "4      168.0  -111.0         2\n",
       "...      ...     ...       ...\n",
       "1495   835.0   267.0         5\n",
       "1496  2366.0   552.0         5\n",
       "1497   828.0   230.0         2\n",
       "1498    34.0    10.0         2\n",
       "1499    72.0    16.0         2\n",
       "\n",
       "[1500 rows x 3 columns]"
      ]
     },
     "execution_count": 6,
     "metadata": {},
     "output_type": "execute_result"
    }
   ],
   "source": [
    "\n",
    "\n",
    "# cat_col = order_details[[\"Category\"]]\n",
    "# for col in cat_col:\n",
    "#     cat_col[col].astype(\"category\")\n",
    "\n",
    "#remove the columns that are not of same datatype\n",
    "remove_col  = [\"Order ID\", \"Category\", \"Sub-Category\"]\n",
    "for col in remove_col:\n",
    "    order_details.pop(col)\n",
    "\n",
    "order_details"
   ]
  },
  {
   "cell_type": "markdown",
   "metadata": {
    "nteract": {
     "transient": {
      "deleting": false
     }
    }
   },
   "source": [
    "SPLIT AND TRAIN DATASET"
   ]
  },
  {
   "cell_type": "code",
   "execution_count": 7,
   "metadata": {
    "gather": {
     "logged": 1619599469133
    },
    "jupyter": {
     "outputs_hidden": false,
     "source_hidden": false
    },
    "nteract": {
     "transient": {
      "deleting": false
     }
    }
   },
   "outputs": [],
   "source": [
    "X = order_details[[ \"Amount\", \"Quantity\"]]#INDEPENDENT VARIABLE\n",
    "Y = order_details[\"Profit\"]"
   ]
  },
  {
   "cell_type": "code",
   "execution_count": 8,
   "metadata": {
    "gather": {
     "logged": 1619599470992
    },
    "jupyter": {
     "outputs_hidden": false,
     "source_hidden": false
    },
    "nteract": {
     "transient": {
      "deleting": false
     }
    }
   },
   "outputs": [],
   "source": [
    "x_train,x_test,y_train,y_test = train_test_split(X,Y,test_size=0.3, random_state=42 )"
   ]
  },
  {
   "cell_type": "raw",
   "metadata": {},
   "source": []
  },
  {
   "cell_type": "code",
   "execution_count": 9,
   "metadata": {
    "gather": {
     "logged": 1619599474075
    }
   },
   "outputs": [
    {
     "data": {
      "text/plain": [
       "LinearRegression()"
      ]
     },
     "execution_count": 9,
     "metadata": {},
     "output_type": "execute_result"
    }
   ],
   "source": [
    "model  = LinearRegression()\n",
    "model.fit(x_train, y_train)"
   ]
  },
  {
   "cell_type": "code",
   "execution_count": 10,
   "metadata": {
    "gather": {
     "logged": 1619599480744
    }
   },
   "outputs": [],
   "source": [
    "Predicted_price = model.predict(x_test)\n"
   ]
  },
  {
   "cell_type": "code",
   "execution_count": 11,
   "metadata": {
    "gather": {
     "logged": 1619599489123
    }
   },
   "outputs": [
    {
     "data": {
      "text/plain": [
       "array([ 3.19008240e+02,  1.38560036e+01,  2.51346078e+00, -5.35600498e+01,\n",
       "       -2.89077852e+00,  3.52901960e+00,  2.08806640e+00,  2.97507842e+00,\n",
       "        3.57186853e+00,  9.11128029e+00,  2.48221477e-01,  3.94116265e+00,\n",
       "       -4.90366757e-01,  3.06226626e+01,  1.44231961e+01, -1.37487317e+01,\n",
       "        6.66801959e+00,  9.21022948e+00, -9.36005123e+00,  2.60988097e+01,\n",
       "        4.46063645e+01,  2.32881372e+00, -1.47632796e+00, -1.68448828e+01,\n",
       "        9.62237253e+00,  3.04181386e+01, -3.98043228e-01, -5.98692958e+00,\n",
       "        9.80701959e+00,  4.33633097e+01, -2.24451381e+00,  3.19218177e+01,\n",
       "       -1.23210298e+01, -5.82690287e-01,  1.00227978e+02,  3.37616626e+01,\n",
       "        7.49893136e+00, -1.69057264e+00, -6.45517289e+00,  1.24777763e+01,\n",
       "        8.28699419e+00,  3.71366666e+00,  3.52901960e+00,  8.18804500e+00,\n",
       "       -1.46719670e+01,  2.69810783e+00,  7.24023725e+01,  5.09851960e+00,\n",
       "        6.97183645e+01,  1.20582003e+02,  8.56396478e+00,  8.47164125e+00,\n",
       "       -1.91101221e+01, -1.06525806e+01, -1.28321221e+01,  8.56396478e+00,\n",
       "        5.13474287e+00, -2.15219029e+00, -2.26678908e+01, -2.08147945e+01,\n",
       "        5.59983819e+01,  1.09643765e+01, -9.51984404e-01,  1.39379780e+02,\n",
       "        6.48337254e+00, -5.39013947e+00,  2.79043136e+00,  2.72990156e+01,\n",
       "       -9.29423034e+00,  1.60355450e+01, -7.64875311e+00, -1.45796435e+01,\n",
       "       -1.06592063e+01,  1.44660450e+01,  6.05849607e+01,  9.53282054e+01,\n",
       "        1.08225784e+01, -2.26612651e+01,  1.35922843e+01,  6.20983605e+01,\n",
       "        1.13270450e+01, -6.32164881e-01,  9.66522147e+00,  5.92943136e+00,\n",
       "       -4.92852182e+00, -8.29501782e+00,  5.74478430e+00,  5.32601559e+00,\n",
       "        3.63961960e+01,  1.34438605e+01, -1.86979790e+01, -6.35622370e+00,\n",
       "        1.48781880e+01,  7.68634995e+01, -1.59824911e+00, -1.21297571e+01,\n",
       "       -6.75013816e-01,  7.73305301e+00, -7.70485336e+00,  2.23649019e+00,\n",
       "        6.85266665e+00,  9.01895676e+00,  2.38401960e+01,  2.91454862e+01,\n",
       "        8.18804500e+00,  1.17820370e+01,  8.02162653e-01, -1.07515298e+01,\n",
       "        3.93010744e+01, -1.78289617e+00, -2.03960258e+01,  2.74095677e+00,\n",
       "        7.17248618e+00,  1.63307442e+00,  2.23649019e+00,  5.05216960e+01,\n",
       "        2.41171666e+01,  3.43669607e+00,  3.80599019e+00, -1.50592558e+00,\n",
       "        8.02162653e-01, -1.09790258e+01, -2.23842945e+01, -2.61380793e+00,\n",
       "        1.08654273e+01,  4.32868536e-01, -1.27698299e-01,  2.52745236e+01,\n",
       "        1.91004501e+00,  1.53135986e+02,  7.72642735e+00,  4.70134019e+01,\n",
       "        6.59825744e+01,  3.31153979e+01,  7.78658070e+01,  2.32881372e+00,\n",
       "        7.18484313e+01,  1.25715464e+00, -3.72831594e+00,  6.15692735e+00,\n",
       "        1.31306666e+01,  2.42113725e+00,  7.64072948e+00, -1.25545763e+00,\n",
       "        1.34110713e+02,  1.89679369e+00,  1.08480995e+02,  2.38401960e+01,\n",
       "       -1.63404162e+01,  5.69530971e+00, -4.95044402e+01, -1.76263199e+01,\n",
       "        4.44217174e+01,  2.28870878e+02, -1.21792317e+01,  2.79043136e+00,\n",
       "        8.04624688e+00, -3.44471970e+00, -2.59849122e+01, -3.35239617e+00,\n",
       "        2.16540290e+01,  6.29872548e+00,  1.84359568e+01,  8.11598564e+01,\n",
       "        1.46935410e+01,  1.63191412e+01, -7.51358065e+00,  6.93836452e+00,\n",
       "        6.61854500e+00, -3.53704323e+00,  5.92943136e+00,  2.79043136e+00,\n",
       "        2.05184313e+00,  9.16075489e+00,  4.78739113e+01,  1.21084822e+01,\n",
       "        8.51449018e+00,  9.66522147e+00,  1.33515370e+01, -3.10198573e+01,\n",
       "        1.77963177e+01,  1.48848137e+01,  3.71281586e+01, -6.75013816e-01,\n",
       "        3.97738593e+00,  2.92378097e+01,  9.11128029e+00,  1.86719607e+00,\n",
       "        2.85915450e+01,  9.34540195e+00,  3.61059741e+01,  8.92663323e+00,\n",
       "        9.43109982e+00, -3.78584242e+01,  1.04532843e+01, -2.71422691e+01,\n",
       "        8.03299556e+00, -4.46690418e+00,  6.60254233e+01,  9.25307842e+00,\n",
       "       -9.51984404e-01,  6.86901295e+00,  1.38264059e+01,  3.24196586e+01,\n",
       "       -1.92469429e+00,  3.26604059e+01,  2.83640490e+01,  4.17377094e+01,\n",
       "        1.49771372e+01, -1.71218534e+01, -5.43298841e+00,  1.16668192e+02,\n",
       "        2.14416666e+00, -1.50592558e+00,  5.54082174e+01, -3.63599241e+00,\n",
       "        1.03736272e+02,  1.02686372e+01,  3.15309982e+00,  5.81218230e+01,\n",
       "       -2.98310205e+00,  8.16347254e+01,  1.76856507e+02, -2.98310205e+00,\n",
       "        4.59284915e+01,  1.30745664e+01, -1.00986395e+01,  1.09149019e+01,\n",
       "        1.30662923e+00,  2.61054353e+01,  6.66801959e+00,  2.16244313e+01,\n",
       "        1.07302549e+01,  7.67695276e+00,  1.47001666e+01,  3.71366666e+00,\n",
       "        1.81656118e+01, -1.96754323e+00,  3.15972548e+00,  5.19084313e+00,\n",
       "        4.78376880e+01,  3.32505704e+01, -2.89740418e+00,  1.04104354e+01,\n",
       "        3.99063724e+00,  5.63314527e+01,  1.03114862e+01,  1.71877229e+00,\n",
       "        3.19646666e+01,  8.11598564e+01,  9.43772547e+00,  1.37340824e+01,\n",
       "        3.94116265e+00,  9.57289794e+00,  1.77963177e+01,  2.83328030e+00,\n",
       "        2.88275489e+00,  4.25818725e+01,  9.57289794e+00,  5.28316665e+00,\n",
       "       -1.34222865e+01,  7.30782348e+01, -9.91399241e+00,  7.95392335e+00,\n",
       "        1.32640163e+02,  2.42113725e+00,  5.56013724e+00,  8.37931772e+00,\n",
       "        2.44864608e+01,  2.06088725e+01,  9.48720007e+00,  1.01763137e+01,\n",
       "       -1.33299630e+01,  7.54178029e+00, -8.29501782e+00, -1.62975672e+01,\n",
       "       -1.21792317e+01,  2.44369862e+01,  1.32498364e+02,  9.89934312e+00,\n",
       "       -6.54087076e+00,  9.57952360e+00, -1.27698299e-01, -4.18993359e+00,\n",
       "        1.11490236e+01,  2.49909273e+01,  1.47496412e+01,  4.17528430e+00,\n",
       "        3.34437254e+00,  1.44180170e+00, -2.85765966e+01,  8.01002360e+00,\n",
       "        3.71366666e+00,  6.68134861e+01,  1.75267130e+02, -4.87904723e+00,\n",
       "       -1.78289617e+00,  1.77039942e+01,  4.03166332e+01, -6.26390017e+00,\n",
       "        8.47164125e+00,  9.39487654e+00,  7.91770007e+00, -4.72090281e+00,\n",
       "       -2.06301475e+01,  1.12643191e+01,  2.92560383e+00,  2.41171666e+01,\n",
       "       -2.13325124e+01, -5.61763546e+00, -1.62414670e+01,  3.49618685e+01,\n",
       "        5.19084313e+00, -8.11037076e+00,  1.18381372e+01, -3.65164202e+01,\n",
       "        3.25204901e+00,  3.66419206e+00,  1.93525664e+01, -8.15984535e+00,\n",
       "        3.22416372e+01, -1.17604630e+01, -1.84572317e+01, -9.03360605e+00,\n",
       "        8.01002360e+00,  2.23649019e+00,  4.72704955e+01,  6.76034312e+00,\n",
       "       -3.28234790e+01, -8.34449241e+00,  4.82154901e+00,  8.03421960e+01,\n",
       "        6.07135075e+01,  2.03319019e+01,  5.37549018e+00,  1.09577509e+01,\n",
       "        6.34469901e+01,  2.07011961e+01,  7.00315583e+01, -1.71044962e+00,\n",
       "        4.37259781e+01, -8.20269429e+00,  2.48358779e+01,  2.12551372e+01,\n",
       "        1.99626078e+01,  1.42469306e+02,  1.33515370e+01,  9.11128029e+00,\n",
       "       -2.18798279e+01,  1.71500530e+01,  4.98621800e+01, -3.07542558e+00,\n",
       "        7.21682508e+01, -8.34449241e+00,  1.08654273e+01,  3.82896214e+00,\n",
       "       -1.97416889e+00,  7.53515464e+00,  1.15611666e+01,  1.86719607e+00,\n",
       "        3.75831506e+01, -1.85990298e+01,  3.35770156e+01,  3.38722147e+00,\n",
       "       -3.07542558e+00,  9.53004900e+00,  4.24334487e+01,  1.47858645e+01,\n",
       "        2.49052295e+01,  3.37397016e+00, -5.82690287e-01,  4.49129327e+01,\n",
       "       -1.76263199e+01,  2.09469206e+00,  4.82154901e+00,  4.99050289e+01,\n",
       "        3.89831372e+00,  1.01763137e+01,  4.24334487e+01,  1.60783939e+01,\n",
       "        4.58080170e+00, -4.87904723e+00,  2.83328030e+00, -6.81639475e-01,\n",
       "        5.09851960e+00,  1.96790116e+01,  4.16203299e+00,  5.77657802e+01,\n",
       "        3.78238979e+01,  1.41462255e+01,  4.25323979e+01,  1.16114251e+02,\n",
       "        2.80870784e+01,  1.97972093e+02,  9.85649419e+00,  2.36983979e+01,\n",
       "        1.35922843e+01, -8.75663546e+00, -1.71218534e+01,  2.18701559e+00,\n",
       "        6.85266665e+00,  9.24794273e+01, -4.09761006e+00,  8.01002360e+00,\n",
       "        2.36060744e+01, -6.75013816e-01,  2.18701559e+00, -7.51358065e+00,\n",
       "        9.94219206e+00,  2.79043136e+00,  2.25476666e+01, -1.85133320e+01,\n",
       "       -1.36069336e+01, -5.43298841e+00,  1.20227843e+01,  2.87333431e+01,\n",
       "       -2.69576221e+01,  4.70562508e+01,  6.20640195e+00,  8.50786452e+00,\n",
       "        3.61059741e+01, -4.90366757e-01,  9.02558242e+00,  1.21007398e+02,\n",
       "       -1.79527651e+01,  6.20640195e+00,  8.97610783e+00,  3.99063724e+00,\n",
       "        5.97228030e+00, -6.75013816e-01, -1.79593908e+01,  1.12347215e+01,\n",
       "        1.08720530e+01,  7.22196077e+00,  1.54791184e+02, -8.06752182e+00,\n",
       "        3.70704100e+00,  2.32881372e+00,  3.87042843e+01,  1.52969568e+01,\n",
       "        6.94499018e+00,  6.89551559e+00,  6.17851666e+01, -2.89740418e+00,\n",
       "        1.13137937e+01, -1.32376395e+01,  6.29872548e+00,  8.65628830e+00,\n",
       "       -2.34346300e+00,  4.35993136e+00])"
      ]
     },
     "execution_count": 11,
     "metadata": {},
     "output_type": "execute_result"
    }
   ],
   "source": [
    "Predicted_price"
   ]
  },
  {
   "cell_type": "code",
   "execution_count": 12,
   "metadata": {
    "collapsed": true,
    "gather": {
     "logged": 1619599511966
    },
    "jupyter": {
     "outputs_hidden": false,
     "source_hidden": false
    },
    "nteract": {
     "transient": {
      "deleting": false
     }
    }
   },
   "outputs": [
    {
     "data": {
      "text/plain": [
       "1116    1698.0\n",
       "1368      90.0\n",
       "422       -3.0\n",
       "413      -15.0\n",
       "451        0.0\n",
       "         ...  \n",
       "1083     -12.0\n",
       "990        4.0\n",
       "650        0.0\n",
       "1188      -3.0\n",
       "1498      10.0\n",
       "Name: Profit, Length: 450, dtype: float64"
      ]
     },
     "execution_count": 12,
     "metadata": {},
     "output_type": "execute_result"
    }
   ],
   "source": [
    "y_test"
   ]
  },
  {
   "cell_type": "code",
   "execution_count": 13,
   "metadata": {
    "collapsed": true,
    "gather": {
     "logged": 1619599512203
    },
    "jupyter": {
     "outputs_hidden": false,
     "source_hidden": false
    },
    "nteract": {
     "transient": {
      "deleting": false
     }
    }
   },
   "outputs": [
    {
     "data": {
      "text/plain": [
       "0.060121380915382217"
      ]
     },
     "execution_count": 13,
     "metadata": {},
     "output_type": "execute_result"
    }
   ],
   "source": [
    "model.score(x_test,y_test)"
   ]
  },
  {
   "cell_type": "code",
   "execution_count": 14,
   "metadata": {
    "gather": {
     "logged": 1619599512898
    }
   },
   "outputs": [
    {
     "data": {
      "text/html": [
       "<div>\n",
       "<style scoped>\n",
       "    .dataframe tbody tr th:only-of-type {\n",
       "        vertical-align: middle;\n",
       "    }\n",
       "\n",
       "    .dataframe tbody tr th {\n",
       "        vertical-align: top;\n",
       "    }\n",
       "\n",
       "    .dataframe thead th {\n",
       "        text-align: right;\n",
       "    }\n",
       "</style>\n",
       "<table border=\"1\" class=\"dataframe\">\n",
       "  <thead>\n",
       "    <tr style=\"text-align: right;\">\n",
       "      <th></th>\n",
       "      <th>Tested Profit</th>\n",
       "      <th>Predicted Profit</th>\n",
       "    </tr>\n",
       "  </thead>\n",
       "  <tbody>\n",
       "    <tr>\n",
       "      <th>1116</th>\n",
       "      <td>1698.0</td>\n",
       "      <td>319.008240</td>\n",
       "    </tr>\n",
       "    <tr>\n",
       "      <th>1368</th>\n",
       "      <td>90.0</td>\n",
       "      <td>13.856004</td>\n",
       "    </tr>\n",
       "    <tr>\n",
       "      <th>422</th>\n",
       "      <td>-3.0</td>\n",
       "      <td>2.513461</td>\n",
       "    </tr>\n",
       "    <tr>\n",
       "      <th>413</th>\n",
       "      <td>-15.0</td>\n",
       "      <td>-53.560050</td>\n",
       "    </tr>\n",
       "    <tr>\n",
       "      <th>451</th>\n",
       "      <td>0.0</td>\n",
       "      <td>-2.890779</td>\n",
       "    </tr>\n",
       "    <tr>\n",
       "      <th>...</th>\n",
       "      <td>...</td>\n",
       "      <td>...</td>\n",
       "    </tr>\n",
       "    <tr>\n",
       "      <th>1083</th>\n",
       "      <td>-12.0</td>\n",
       "      <td>-13.237639</td>\n",
       "    </tr>\n",
       "    <tr>\n",
       "      <th>990</th>\n",
       "      <td>4.0</td>\n",
       "      <td>6.298725</td>\n",
       "    </tr>\n",
       "    <tr>\n",
       "      <th>650</th>\n",
       "      <td>0.0</td>\n",
       "      <td>8.656288</td>\n",
       "    </tr>\n",
       "    <tr>\n",
       "      <th>1188</th>\n",
       "      <td>-3.0</td>\n",
       "      <td>-2.343463</td>\n",
       "    </tr>\n",
       "    <tr>\n",
       "      <th>1498</th>\n",
       "      <td>10.0</td>\n",
       "      <td>4.359931</td>\n",
       "    </tr>\n",
       "  </tbody>\n",
       "</table>\n",
       "<p>450 rows × 2 columns</p>\n",
       "</div>"
      ],
      "text/plain": [
       "      Tested Profit  Predicted Profit\n",
       "1116         1698.0        319.008240\n",
       "1368           90.0         13.856004\n",
       "422            -3.0          2.513461\n",
       "413           -15.0        -53.560050\n",
       "451             0.0         -2.890779\n",
       "...             ...               ...\n",
       "1083          -12.0        -13.237639\n",
       "990             4.0          6.298725\n",
       "650             0.0          8.656288\n",
       "1188           -3.0         -2.343463\n",
       "1498           10.0          4.359931\n",
       "\n",
       "[450 rows x 2 columns]"
      ]
     },
     "execution_count": 14,
     "metadata": {},
     "output_type": "execute_result"
    }
   ],
   "source": [
    "predict_df  = pd.DataFrame({})\n",
    "\n",
    "predict_df[\"Tested Profit\"] = y_test\n",
    "predict_df[\"Predicted Profit\"] = Predicted_price\n",
    "\n",
    "predict_df"
   ]
  },
  {
   "cell_type": "markdown",
   "metadata": {},
   "source": [
    "#Using the whole dataset to test and split"
   ]
  },
  {
   "cell_type": "code",
   "execution_count": 15,
   "metadata": {
    "gather": {
     "logged": 1619599513324
    }
   },
   "outputs": [
    {
     "data": {
      "text/html": [
       "<div>\n",
       "<style scoped>\n",
       "    .dataframe tbody tr th:only-of-type {\n",
       "        vertical-align: middle;\n",
       "    }\n",
       "\n",
       "    .dataframe tbody tr th {\n",
       "        vertical-align: top;\n",
       "    }\n",
       "\n",
       "    .dataframe thead th {\n",
       "        text-align: right;\n",
       "    }\n",
       "</style>\n",
       "<table border=\"1\" class=\"dataframe\">\n",
       "  <thead>\n",
       "    <tr style=\"text-align: right;\">\n",
       "      <th></th>\n",
       "      <th>Amount</th>\n",
       "      <th>Profit</th>\n",
       "      <th>Quantity</th>\n",
       "    </tr>\n",
       "  </thead>\n",
       "  <tbody>\n",
       "    <tr>\n",
       "      <th>0</th>\n",
       "      <td>1275.0</td>\n",
       "      <td>-1148.0</td>\n",
       "      <td>7</td>\n",
       "    </tr>\n",
       "    <tr>\n",
       "      <th>1</th>\n",
       "      <td>66.0</td>\n",
       "      <td>-12.0</td>\n",
       "      <td>5</td>\n",
       "    </tr>\n",
       "    <tr>\n",
       "      <th>2</th>\n",
       "      <td>8.0</td>\n",
       "      <td>-2.0</td>\n",
       "      <td>3</td>\n",
       "    </tr>\n",
       "    <tr>\n",
       "      <th>3</th>\n",
       "      <td>80.0</td>\n",
       "      <td>-56.0</td>\n",
       "      <td>4</td>\n",
       "    </tr>\n",
       "    <tr>\n",
       "      <th>4</th>\n",
       "      <td>168.0</td>\n",
       "      <td>-111.0</td>\n",
       "      <td>2</td>\n",
       "    </tr>\n",
       "    <tr>\n",
       "      <th>...</th>\n",
       "      <td>...</td>\n",
       "      <td>...</td>\n",
       "      <td>...</td>\n",
       "    </tr>\n",
       "    <tr>\n",
       "      <th>1495</th>\n",
       "      <td>835.0</td>\n",
       "      <td>267.0</td>\n",
       "      <td>5</td>\n",
       "    </tr>\n",
       "    <tr>\n",
       "      <th>1496</th>\n",
       "      <td>2366.0</td>\n",
       "      <td>552.0</td>\n",
       "      <td>5</td>\n",
       "    </tr>\n",
       "    <tr>\n",
       "      <th>1497</th>\n",
       "      <td>828.0</td>\n",
       "      <td>230.0</td>\n",
       "      <td>2</td>\n",
       "    </tr>\n",
       "    <tr>\n",
       "      <th>1498</th>\n",
       "      <td>34.0</td>\n",
       "      <td>10.0</td>\n",
       "      <td>2</td>\n",
       "    </tr>\n",
       "    <tr>\n",
       "      <th>1499</th>\n",
       "      <td>72.0</td>\n",
       "      <td>16.0</td>\n",
       "      <td>2</td>\n",
       "    </tr>\n",
       "  </tbody>\n",
       "</table>\n",
       "<p>1500 rows × 3 columns</p>\n",
       "</div>"
      ],
      "text/plain": [
       "      Amount  Profit  Quantity\n",
       "0     1275.0 -1148.0         7\n",
       "1       66.0   -12.0         5\n",
       "2        8.0    -2.0         3\n",
       "3       80.0   -56.0         4\n",
       "4      168.0  -111.0         2\n",
       "...      ...     ...       ...\n",
       "1495   835.0   267.0         5\n",
       "1496  2366.0   552.0         5\n",
       "1497   828.0   230.0         2\n",
       "1498    34.0    10.0         2\n",
       "1499    72.0    16.0         2\n",
       "\n",
       "[1500 rows x 3 columns]"
      ]
     },
     "execution_count": 15,
     "metadata": {},
     "output_type": "execute_result"
    }
   ],
   "source": [
    "order_details"
   ]
  },
  {
   "cell_type": "code",
   "execution_count": 16,
   "metadata": {
    "gather": {
     "logged": 1619599513802
    }
   },
   "outputs": [
    {
     "data": {
      "text/plain": [
       "0.060121380915382217"
      ]
     },
     "execution_count": 16,
     "metadata": {},
     "output_type": "execute_result"
    }
   ],
   "source": [
    "model.score(x_test, y_test)"
   ]
  },
  {
   "cell_type": "markdown",
   "metadata": {
    "nteract": {
     "transient": {
      "deleting": false
     }
    }
   },
   "source": [
    "                    VISUALIZING THE RESULT ON GRAPH"
   ]
  },
  {
   "cell_type": "code",
   "execution_count": 20,
   "metadata": {
    "collapsed": true,
    "gather": {
     "logged": 1619599809548
    },
    "jupyter": {
     "outputs_hidden": false,
     "source_hidden": false
    },
    "nteract": {
     "transient": {
      "deleting": false
     }
    }
   },
   "outputs": [
    {
     "data": {
      "image/png": "[encoded data removed]",
      "text/plain": [
       "<Figure size 432x288 with 1 Axes>"
      ]
     },
     "metadata": {},
     "output_type": "display_data"
    }
   ],
   "source": [
    "\n",
    "plt.scatter(y_test, Predicted_price, color='green') # plotting the regression line\n",
    "\n",
    "plt.title(\"Predicted\")\n",
    "\n",
    "plt.xlabel(\"Actual\") \n",
    "plt.ylabel(\"Predicted\") \n",
    "plt.show() "
   ]
  },
  {
   "cell_type": "code",
   "execution_count": null,
   "metadata": {
    "collapsed": true,
    "gather": {
     "logged": 1619600835757
    },
    "jupyter": {
     "outputs_hidden": false,
     "source_hidden": false
    },
    "nteract": {
     "transient": {
      "deleting": false
     }
    }
   },
   "outputs": [],
   "source": []
  }
 ],
 "metadata": {
  "kernel_info": {
   "name": "python3-azureml"
  },
  "kernelspec": {
   "display_name": "Python 3",
   "language": "python",
   "name": "python3"
  },
  "language_info": {
   "codemirror_mode": {
    "name": "ipython",
    "version": 3
   },
   "file_extension": ".py",
   "mimetype": "text/x-python",
   "name": "python",
   "nbconvert_exporter": "python",
   "pygments_lexer": "ipython3",
   "version": "3.7.8"
  },
  "microsoft": {
   "host": {
    "AzureML": {
     "notebookHasBeenCompleted": true
    }
   }
  },
  "nteract": {
   "version": "nteract-front-end@1.0.0"
  }
 },
 "nbformat": 4,
 "nbformat_minor": 2
}
